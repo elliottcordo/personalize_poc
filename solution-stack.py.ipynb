{
 "cells": [
  {
   "attachments": {},
   "cell_type": "markdown",
   "id": "cfceab4d",
   "metadata": {},
   "source": [
    "# Recommender Solution Stack\n",
    "The following notebook can be used to build the infrastructure necessary for serving recommmendations.\n",
    "Run each step and fully review the results before proceeding.   \n",
    "The entire build will take approximately 30 min"
   ]
  },
  {
   "cell_type": "code",
   "execution_count": null,
   "id": "16e2ba37",
   "metadata": {},
   "outputs": [],
   "source": [
    "import time\n",
    "import json\n",
    "from pprint import pprint\n",
    "import boto3"
   ]
  },
  {
   "cell_type": "code",
   "execution_count": null,
   "id": "a991569a",
   "metadata": {},
   "outputs": [],
   "source": [
    "personalize = boto3.client('personalize')\n",
    "personalize_runtime = boto3.client('personalize-runtime')"
   ]
  },
  {
   "attachments": {},
   "cell_type": "markdown",
   "id": "282910b0",
   "metadata": {},
   "source": [
    "## Gather Dataset and Solution Arn's"
   ]
  },
  {
   "attachments": {},
   "cell_type": "markdown",
   "id": "3e419a27",
   "metadata": {},
   "source": [
    "List existing datasets.  Datasets should have been created by cloudforamtion."
   ]
  },
  {
   "cell_type": "code",
   "execution_count": null,
   "id": "c6df12b3",
   "metadata": {},
   "outputs": [],
   "source": [
    "personalize.list_dataset_groups()"
   ]
  },
  {
   "attachments": {},
   "cell_type": "markdown",
   "id": "3a3a33aa",
   "metadata": {},
   "source": [
    "**Attention:** Set Dataset Group ARN and solution prefix below (should be the same as stack name for consitency)"
   ]
  },
  {
   "cell_type": "code",
   "execution_count": null,
   "id": "c72d2093",
   "metadata": {},
   "outputs": [],
   "source": [
    "# edit this\n",
    "dataset_group_arn = 'arn:aws:personalize:eu-west-1:99999999:dataset-group/qa-dataset-group'\n",
    "solution_stack_prefiix = 'qa'"
   ]
  },
  {
   "attachments": {},
   "cell_type": "markdown",
   "id": "5b9501dd",
   "metadata": {},
   "source": [
    "Below are the list of recipes we will instantiate solutions thru campaigns:"
   ]
  },
  {
   "attachments": {},
   "cell_type": "markdown",
   "id": "a4c67fed",
   "metadata": {},
   "source": [
    "## Create Solution Stack"
   ]
  },
  {
   "attachments": {},
   "cell_type": "markdown",
   "id": "e8f24967",
   "metadata": {},
   "source": [
    "List recipes available."
   ]
  },
  {
   "cell_type": "code",
   "execution_count": null,
   "id": "7739ed2e",
   "metadata": {},
   "outputs": [],
   "source": [
    "personalize.list_recipes()"
   ]
  },
  {
   "attachments": {},
   "cell_type": "markdown",
   "id": "7bacdb2b",
   "metadata": {},
   "source": [
    "**Attention:** Below we assign the recipes we want to instantiate.  Edit to onboard additional recipes."
   ]
  },
  {
   "cell_type": "code",
   "execution_count": null,
   "id": "eb9aaf6e",
   "metadata": {},
   "outputs": [],
   "source": [
    "# edit to add additional recipes\n",
    "recipe_arns = {\n",
    "               \"re-rank\": \"arn:aws:personalize:::recipe/aws-personalized-ranking\",\n",
    "               \"user-personalization\": \"arn:aws:personalize:::recipe/aws-user-personalization\",\n",
    "               \"similar-items\": \"arn:aws:personalize:::recipe/aws-similar-items\",\n",
    "               \"trending-items\": 'arn:aws:personalize:::recipe/aws-trending-now'\n",
    "               }"
   ]
  },
  {
   "attachments": {},
   "cell_type": "markdown",
   "id": "1f423c22",
   "metadata": {},
   "source": [
    "### Solutions\n",
    "Now we create the solutions the actual recommemndation engines.  Note that this step will fail if solutions already exist as you can only have one solution per recipe within a dataset group.  Good order of protection."
   ]
  },
  {
   "cell_type": "code",
   "execution_count": null,
   "id": "7ccd2569",
   "metadata": {},
   "outputs": [],
   "source": [
    "solution_arns = {}\n",
    "\n",
    "for solution_name, arn in recipe_arns.items():\n",
    "    try:\n",
    "        print(f'Creating solution {solution_name}')\n",
    "        response = personalize.create_solution(\n",
    "        name = f'{solution_stack_prefiix}-{solution_name}',\n",
    "        datasetGroupArn = dataset_group_arn,\n",
    "        recipeArn = arn)\n",
    "\n",
    "        solution_arns[solution_name] =  response['solutionArn']\n",
    "        print(json.dumps(response, indent=2))\n",
    "    except Exception as e:\n",
    "        print(f'Solution {solution_name} failed')\n",
    "        print(e)"
   ]
  },
  {
   "attachments": {},
   "cell_type": "markdown",
   "id": "120b4e1d",
   "metadata": {},
   "source": [
    "### Event Ingestion\n",
    "Event trackers are used to ingest real time interaction events"
   ]
  },
  {
   "cell_type": "code",
   "execution_count": null,
   "id": "87e5fb8b",
   "metadata": {},
   "outputs": [],
   "source": [
    "tracker_response = personalize.create_event_tracker(\n",
    "    name=f'{solution_stack_prefiix}-tracker',\n",
    "    datasetGroupArn=dataset_group_arn\n",
    ")\n",
    "\n",
    "pprint(tracker_response)"
   ]
  },
  {
   "attachments": {},
   "cell_type": "markdown",
   "id": "ea107a3f",
   "metadata": {},
   "source": [
    "### Solution Versions\n",
    "Solution = trained models. \n",
    "Note the following steps take time so we will poll for results"
   ]
  },
  {
   "cell_type": "code",
   "execution_count": null,
   "id": "6397dc65",
   "metadata": {},
   "outputs": [],
   "source": [
    "version_arns = {}\n",
    "\n",
    "for solution_name, arn in solution_arns.items():\n",
    "    try:\n",
    "        print(f'Creating solution version {solution_name}')\n",
    "        response = personalize.create_solution_version(solutionArn = arn)\n",
    "        version_arns[solution_name] = response['solutionVersionArn']\n",
    "        print(json.dumps(response, indent=2))\n",
    "    except Exception as e:\n",
    "        print(f'Solution version {solution_name} failed')\n",
    "        print(e)"
   ]
  },
  {
   "cell_type": "code",
   "execution_count": null,
   "id": "2c90c447",
   "metadata": {},
   "outputs": [],
   "source": [
    "version_arn_list = list(version_arns.values())\n",
    "\n",
    "max_time = time.time() + 3*60*60 # 3 hours\n",
    "while time.time() < max_time:\n",
    "    for solution_version_arn in version_arn_list:\n",
    "        version_response = personalize.describe_solution_version(\n",
    "            solutionVersionArn = solution_version_arn\n",
    "        )\n",
    "        status = version_response[\"solutionVersion\"][\"status\"]\n",
    "        print(f\"Status for {solution_version_arn}: {status}\")\n",
    "        \n",
    "        if status == \"ACTIVE\":\n",
    "            print(f\"Build succeeded for {solution_version_arn}\")\n",
    "            version_arn_list.remove(solution_version_arn)\n",
    "        elif status == \"CREATE FAILED\":\n",
    "            print(f\"Build failed for {solution_version_arn}\")\n",
    "            version_arn_list.remove(solution_version_arn)\n",
    "    \n",
    "    if len(version_arn_list) <= 0:\n",
    "        break\n",
    "    else:\n",
    "        print(\"At least one solution build is still in progress\")\n",
    "        \n",
    "    time.sleep(60)"
   ]
  },
  {
   "attachments": {},
   "cell_type": "markdown",
   "id": "bcc8f062",
   "metadata": {},
   "source": [
    "### Campaigns\n",
    "Campaign = endpoint.  Like solutions this will take time.\n",
    "NOTE: this sets the minimum TPS at 1, should be changed for production workloads to avoid throttling on cold start."
   ]
  },
  {
   "cell_type": "code",
   "execution_count": null,
   "id": "ba0b5d82",
   "metadata": {},
   "outputs": [],
   "source": [
    "minimum_tps = 1 #change this value for production deploy\n",
    "campaign_arns = {}\n",
    "\n",
    "for solution_name, arn in version_arns.items():\n",
    "    try:\n",
    "        print(f'Creating campaign {solution_name}')\n",
    "        response = personalize.create_campaign(\n",
    "            name = f'{solution_stack_prefiix}-{solution_name}',\n",
    "            solutionVersionArn = arn,\n",
    "            minProvisionedTPS = minimum_tps\n",
    "            )\n",
    "        campaign_arns[solution_name] = response['campaignArn']\n",
    "        print(json.dumps(response, indent=2))\n",
    "    except Exception as e:\n",
    "        print(f'Campaign {solution_name} failed')\n",
    "        print(e)"
   ]
  },
  {
   "cell_type": "code",
   "execution_count": null,
   "id": "f9f7aa7a",
   "metadata": {},
   "outputs": [],
   "source": [
    "campaign_arn_list = list(campaign_arns.values())\n",
    "\n",
    "max_time = time.time() + 3*60*60 # 3 hours\n",
    "while time.time() < max_time:\n",
    "    for campaign_arn in campaign_arn_list:\n",
    "        version_response = personalize.describe_campaign(\n",
    "            campaignArn = campaign_arn\n",
    "        )\n",
    "        status = version_response[\"campaign\"][\"status\"]\n",
    "        print(f\"Status for {campaign_arn}: {status}\")\n",
    "        \n",
    "        if status == \"ACTIVE\":\n",
    "            print(f\"Build succeeded for {campaign_arn}\")\n",
    "            campaign_arn_list.remove(campaign_arn)\n",
    "        elif status == \"CREATE FAILED\":\n",
    "            print(f\"Build failed for {campaign_arn}\")\n",
    "            campaign_arn_list.remove(campaign_arn)\n",
    "    \n",
    "    if len(campaign_arn_list) <= 0:\n",
    "        break\n",
    "    else:\n",
    "        print(\"At least one campaign build is still in progress\")\n",
    "        \n",
    "    time.sleep(60)"
   ]
  },
  {
   "attachments": {},
   "cell_type": "markdown",
   "id": "c308b01c",
   "metadata": {},
   "source": [
    "# Teardown Commands\n",
    "**DANGER!!** This will remove all campaigns and solutions.  Commented for your safety!"
   ]
  },
  {
   "cell_type": "code",
   "execution_count": null,
   "id": "af6725e4",
   "metadata": {},
   "outputs": [],
   "source": [
    "# # set the prefix for the stack you want to delete\n",
    "# solution_stack_prefiix = 'qa'"
   ]
  },
  {
   "cell_type": "code",
   "execution_count": null,
   "id": "c1d159b5",
   "metadata": {},
   "outputs": [],
   "source": [
    "# campaign_response = personalize.list_campaigns()\n",
    "# pprint(campaign_response)"
   ]
  },
  {
   "attachments": {},
   "cell_type": "markdown",
   "id": "a1874bfe",
   "metadata": {},
   "source": [
    "Iterate and delete campaigns.  This can take a few minutes."
   ]
  },
  {
   "cell_type": "code",
   "execution_count": null,
   "id": "4d0564a6",
   "metadata": {},
   "outputs": [],
   "source": [
    "# # UNCOMMENT BELOW TO TEARDOWN\n",
    "\n",
    "# for campaign in campaign_response['campaigns']:\n",
    "#     if campaign['status'] != 'ACTIVE':\n",
    "#         continue\n",
    "#     campaigns_arn_delete = campaign['campaignArn']\n",
    "#     if solution_stack_prefiix in campaigns_arn_delete:\n",
    "#         print(f\"Deleting {campaigns_arn_delete}\")\n",
    "#         delete_response = personalize.delete_campaign(campaignArn=campaigns_arn_delete)\n",
    "#         print(delete_response)"
   ]
  },
  {
   "cell_type": "code",
   "execution_count": null,
   "id": "ab8bd568",
   "metadata": {},
   "outputs": [],
   "source": [
    "# solution_response = personalize.list_solutions()\n",
    "# pprint(solution_response)"
   ]
  },
  {
   "attachments": {},
   "cell_type": "markdown",
   "id": "dbd47f5f",
   "metadata": {},
   "source": [
    "Iterate and delete solutions, this will also delete solution versions."
   ]
  },
  {
   "cell_type": "code",
   "execution_count": null,
   "id": "e0087dd1",
   "metadata": {},
   "outputs": [],
   "source": [
    "# # UNCOMMENT BELOW TO TEARDOWN\n",
    "\n",
    "# for solution in solution_response['solutions']:\n",
    "#     if solution['status'] != 'ACTIVE':\n",
    "#         continue\n",
    "#     solution_arn_delete = solution['solutionArn']\n",
    "#     if solution_stack_prefiix in solution_arn_delete:\n",
    "#         print(f\"Deleting {solution_arn_delete}\")\n",
    "#         delete_response = personalize.delete_solution(solutionArn=solution_arn_delete)\n",
    "#         print(delete_response)\n"
   ]
  },
  {
   "cell_type": "code",
   "execution_count": null,
   "id": "0c988752",
   "metadata": {},
   "outputs": [],
   "source": []
  }
 ],
 "metadata": {
  "kernelspec": {
   "display_name": "Python 3 (ipykernel)",
   "language": "python",
   "name": "python3"
  },
  "language_info": {
   "codemirror_mode": {
    "name": "ipython",
    "version": 3
   },
   "file_extension": ".py",
   "mimetype": "text/x-python",
   "name": "python",
   "nbconvert_exporter": "python",
   "pygments_lexer": "ipython3",
   "version": "3.9.16"
  }
 },
 "nbformat": 4,
 "nbformat_minor": 5
}
