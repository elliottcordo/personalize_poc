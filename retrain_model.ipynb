{
 "cells": [
  {
   "attachments": {},
   "cell_type": "markdown",
   "id": "cfceab4d",
   "metadata": {},
   "source": [
    "# Retraining an existing model\n"
   ]
  },
  {
   "cell_type": "code",
   "execution_count": null,
   "id": "16e2ba37",
   "metadata": {},
   "outputs": [],
   "source": [
    "import time\n",
    "import json\n",
    "from pprint import pprint\n",
    "import boto3"
   ]
  },
  {
   "cell_type": "code",
   "execution_count": null,
   "id": "43b19d18",
   "metadata": {},
   "outputs": [],
   "source": [
    "ENV = 'qa'"
   ]
  },
  {
   "cell_type": "code",
   "execution_count": null,
   "id": "79bc62ca",
   "metadata": {},
   "outputs": [],
   "source": [
    "RETRAIN_RECIPES = ['arn:aws:personalize:::recipe/aws-personalized-ranking',\n",
    "                   'arn:aws:personalize:::recipe/aws-similar-items']"
   ]
  },
  {
   "cell_type": "code",
   "execution_count": null,
   "id": "a991569a",
   "metadata": {},
   "outputs": [],
   "source": [
    "personalize = boto3.client('personalize')\n",
    "personalize_runtime = boto3.client('personalize-runtime')"
   ]
  },
  {
   "attachments": {},
   "cell_type": "markdown",
   "id": "282910b0",
   "metadata": {},
   "source": [
    "## Gather Dataset and Solution Arn's"
   ]
  },
  {
   "attachments": {},
   "cell_type": "markdown",
   "id": "3e419a27",
   "metadata": {},
   "source": [
    "List existing datasets.  Datasets have been created by cloudforamtion."
   ]
  },
  {
   "cell_type": "code",
   "execution_count": null,
   "id": "c6df12b3",
   "metadata": {},
   "outputs": [],
   "source": [
    "dataset_groups = personalize.list_dataset_groups()"
   ]
  },
  {
   "attachments": {},
   "cell_type": "markdown",
   "id": "d82f9cca",
   "metadata": {},
   "source": [
    "The following step will now identify the correct dataset group based on the `ENV` suffix"
   ]
  },
  {
   "cell_type": "code",
   "execution_count": null,
   "id": "0f9574b5",
   "metadata": {},
   "outputs": [],
   "source": [
    "for group in dataset_groups['datasetGroups']:\n",
    "    if group['name'].split('-')[0] == ENV:\n",
    "        dataset_group_arn = (group['datasetGroupArn'])\n",
    "        \n",
    "print(dataset_group_arn)"
   ]
  },
  {
   "cell_type": "code",
   "execution_count": null,
   "id": "756bbe0e",
   "metadata": {},
   "outputs": [],
   "source": [
    "solution_list = []\n",
    "solutions = personalize.list_solutions(datasetGroupArn = dataset_group_arn)\n",
    "# pprint(solutions)\n",
    "\n",
    "for solution in solutions['solutions']:\n",
    "    if solution['name'].split('-')[0] == ENV and solution['recipeArn']  in RETRAIN_RECIPES:\n",
    "        solution_list.append(solution)\n",
    "\n",
    "pprint(solution_list)\n",
    "        "
   ]
  },
  {
   "attachments": {},
   "cell_type": "markdown",
   "id": "7f9a565b",
   "metadata": {},
   "source": [
    "## Create New Versions"
   ]
  },
  {
   "cell_type": "code",
   "execution_count": null,
   "id": "3c453932",
   "metadata": {},
   "outputs": [],
   "source": [
    "version_list = []\n",
    "\n",
    "for solution in solution_list:\n",
    "    solution_arn = solution['solutionArn']\n",
    "    solution_name = solution['name']\n",
    "    try:\n",
    "        print(f\"Creating solution version {solution_arn}\")\n",
    "        response = personalize.create_solution_version(solutionArn = solution_arn)\n",
    "        version_list.append({'solution_version_arn': response['solutionVersionArn'],\n",
    "                            'solution_name': solution_name})\n",
    "        print(json.dumps(response, indent=2))\n",
    "    except Exception as e:\n",
    "        print(f'Solution version {solution_name} failed')\n",
    "        print(e)"
   ]
  },
  {
   "cell_type": "code",
   "execution_count": null,
   "id": "20d35b20",
   "metadata": {},
   "outputs": [],
   "source": [
    "version_arn_list = [x['solution_version_arn'] for x in version_list]\n",
    "\n",
    "max_time = time.time() + 3*60*60 # 3 hours\n",
    "while time.time() < max_time:\n",
    "    for solution_version_arn in version_arn_list:\n",
    "        version_response = personalize.describe_solution_version(\n",
    "            solutionVersionArn = solution_version_arn\n",
    "        )\n",
    "        status = version_response[\"solutionVersion\"][\"status\"]\n",
    "        print(f\"Status for {solution_version_arn}: {status}\")\n",
    "        \n",
    "        if status == \"ACTIVE\":\n",
    "            print(f\"Build succeeded for {solution_version_arn}\")\n",
    "            version_arn_list.remove(solution_version_arn)\n",
    "        elif status == \"CREATE FAILED\":\n",
    "            print(f\"Build failed for {solution_version_arn}\")\n",
    "            version_arn_list.remove(solution_version_arn)\n",
    "    \n",
    "    if len(version_arn_list) <= 0:\n",
    "        break\n",
    "    else:\n",
    "        print(\"At least one solution build is still in progress\")\n",
    "        \n",
    "    time.sleep(60)"
   ]
  },
  {
   "attachments": {},
   "cell_type": "markdown",
   "id": "554d13ea",
   "metadata": {},
   "source": [
    "## Repoint Campaigns"
   ]
  },
  {
   "cell_type": "code",
   "execution_count": null,
   "id": "acc528bc",
   "metadata": {},
   "outputs": [],
   "source": [
    "campaign_list = personalize.list_campaigns()['campaigns']\n",
    "pprint(campaign_list)"
   ]
  },
  {
   "cell_type": "code",
   "execution_count": null,
   "id": "a32c13fa",
   "metadata": {},
   "outputs": [],
   "source": [
    "for version in version_list:\n",
    "    solution_version_arn = version['solution_version_arn']\n",
    "    solution_name = version['solution_name']\n",
    "    for campaign in campaign_list:\n",
    "        if campaign['name'] == solution_name:\n",
    "            print(solution_name, campaign['campaignArn'], solution_version_arn)\n",
    "            try:\n",
    "                response = personalize.update_campaign(\n",
    "                    campaignArn = campaign['campaignArn'],\n",
    "                    solutionVersionArn = solution_version_arn,\n",
    "                    minProvisionedTPS = 1,\n",
    "                )\n",
    "                print(json.dumps(response, indent=2))\n",
    "            except Exception as e:\n",
    "                print(f'Solution version {solution_name} failed')\n",
    "                print(e)"
   ]
  }
 ],
 "metadata": {
  "kernelspec": {
   "display_name": "Python 3 (ipykernel)",
   "language": "python",
   "name": "python3"
  },
  "language_info": {
   "codemirror_mode": {
    "name": "ipython",
    "version": 3
   },
   "file_extension": ".py",
   "mimetype": "text/x-python",
   "name": "python",
   "nbconvert_exporter": "python",
   "pygments_lexer": "ipython3",
   "version": "3.9.16"
  }
 },
 "nbformat": 4,
 "nbformat_minor": 5
}
